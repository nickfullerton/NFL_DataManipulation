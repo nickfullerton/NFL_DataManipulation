{
 "cells": [
  {
   "cell_type": "markdown",
   "id": "748226b0",
   "metadata": {},
   "source": [
    "# Introduction\n",
    "\n",
    "\n",
    "Name: Nicholas Fullerton\n",
    "\n",
    "This Project is surrounded around NFL Quarterback Game Log dataset. Meaning every quarterback's game stats for every game he played.\n",
    "\n",
    "Link : https://www.kaggle.com/datasets/kendallgillies/nflstatistics\n",
    "\n",
    "We will be answering three questions regarding the dataset\n",
    "\n",
    "1. Which team caused the most trouble to quarterbacks?\n",
    "2. Which city was the most difficult to play at?\n",
    "3. Which city was the easiest to play at?\n"
   ]
  },
  {
   "cell_type": "markdown",
   "id": "24ff0b0b",
   "metadata": {},
   "source": [
    "# Libraries and Dataset\n",
    "\n",
    "We will begin by importing the libraries we need and retrieving our dataset."
   ]
  },
  {
   "cell_type": "code",
   "execution_count": 18,
   "id": "c082d7b5",
   "metadata": {},
   "outputs": [],
   "source": [
    "import numpy as np\n",
    "import matplotlib.pyplot as plt\n",
    "import pandas as pd"
   ]
  },
  {
   "cell_type": "code",
   "execution_count": 19,
   "id": "3267b624",
   "metadata": {},
   "outputs": [],
   "source": [
    "main_df = pd.read_csv('Game_Logs_Quarterback.csv')"
   ]
  },
  {
   "cell_type": "markdown",
   "id": "4fcbae18",
   "metadata": {},
   "source": [
    "# View The Data\n",
    "\n",
    "Now let's take a look at our data and view the columns that we will be working with."
   ]
  },
  {
   "cell_type": "code",
   "execution_count": 20,
   "id": "9bef2733",
   "metadata": {},
   "outputs": [
    {
     "data": {
      "text/html": [
       "<div>\n",
       "<style scoped>\n",
       "    .dataframe tbody tr th:only-of-type {\n",
       "        vertical-align: middle;\n",
       "    }\n",
       "\n",
       "    .dataframe tbody tr th {\n",
       "        vertical-align: top;\n",
       "    }\n",
       "\n",
       "    .dataframe thead th {\n",
       "        text-align: right;\n",
       "    }\n",
       "</style>\n",
       "<table border=\"1\" class=\"dataframe\">\n",
       "  <thead>\n",
       "    <tr style=\"text-align: right;\">\n",
       "      <th></th>\n",
       "      <th>Player Id</th>\n",
       "      <th>Name</th>\n",
       "      <th>Position</th>\n",
       "      <th>Year</th>\n",
       "      <th>Season</th>\n",
       "      <th>Week</th>\n",
       "      <th>Game Date</th>\n",
       "      <th>Home or Away</th>\n",
       "      <th>Opponent</th>\n",
       "      <th>Outcome</th>\n",
       "      <th>...</th>\n",
       "      <th>Ints</th>\n",
       "      <th>Sacks</th>\n",
       "      <th>Sacked Yards Lost</th>\n",
       "      <th>Passer Rating</th>\n",
       "      <th>Rushing Attempts</th>\n",
       "      <th>Rushing Yards</th>\n",
       "      <th>Yards Per Carry</th>\n",
       "      <th>Rushing TDs</th>\n",
       "      <th>Fumbles</th>\n",
       "      <th>Fumbles Lost</th>\n",
       "    </tr>\n",
       "  </thead>\n",
       "  <tbody>\n",
       "    <tr>\n",
       "      <th>0</th>\n",
       "      <td>jaredzabransky/2495791</td>\n",
       "      <td>Zabransky, Jared</td>\n",
       "      <td>NaN</td>\n",
       "      <td>2007</td>\n",
       "      <td>Preseason</td>\n",
       "      <td>1</td>\n",
       "      <td>08/11</td>\n",
       "      <td>Home</td>\n",
       "      <td>CHI</td>\n",
       "      <td>L</td>\n",
       "      <td>...</td>\n",
       "      <td>--</td>\n",
       "      <td>--</td>\n",
       "      <td>--</td>\n",
       "      <td>0.0</td>\n",
       "      <td>--</td>\n",
       "      <td>--</td>\n",
       "      <td>--</td>\n",
       "      <td>--</td>\n",
       "      <td>--</td>\n",
       "      <td>--</td>\n",
       "    </tr>\n",
       "    <tr>\n",
       "      <th>1</th>\n",
       "      <td>jaredzabransky/2495791</td>\n",
       "      <td>Zabransky, Jared</td>\n",
       "      <td>NaN</td>\n",
       "      <td>2007</td>\n",
       "      <td>Preseason</td>\n",
       "      <td>2</td>\n",
       "      <td>08/18</td>\n",
       "      <td>Away</td>\n",
       "      <td>ARI</td>\n",
       "      <td>W</td>\n",
       "      <td>...</td>\n",
       "      <td>0</td>\n",
       "      <td>0</td>\n",
       "      <td>0</td>\n",
       "      <td>46.9</td>\n",
       "      <td>--</td>\n",
       "      <td>--</td>\n",
       "      <td>--</td>\n",
       "      <td>--</td>\n",
       "      <td>--</td>\n",
       "      <td>--</td>\n",
       "    </tr>\n",
       "    <tr>\n",
       "      <th>2</th>\n",
       "      <td>jaredzabransky/2495791</td>\n",
       "      <td>Zabransky, Jared</td>\n",
       "      <td>NaN</td>\n",
       "      <td>2007</td>\n",
       "      <td>Preseason</td>\n",
       "      <td>3</td>\n",
       "      <td>08/25</td>\n",
       "      <td>Home</td>\n",
       "      <td>DAL</td>\n",
       "      <td>W</td>\n",
       "      <td>...</td>\n",
       "      <td>--</td>\n",
       "      <td>--</td>\n",
       "      <td>--</td>\n",
       "      <td>0.0</td>\n",
       "      <td>--</td>\n",
       "      <td>--</td>\n",
       "      <td>--</td>\n",
       "      <td>--</td>\n",
       "      <td>--</td>\n",
       "      <td>--</td>\n",
       "    </tr>\n",
       "    <tr>\n",
       "      <th>3</th>\n",
       "      <td>jaredzabransky/2495791</td>\n",
       "      <td>Zabransky, Jared</td>\n",
       "      <td>NaN</td>\n",
       "      <td>2007</td>\n",
       "      <td>Preseason</td>\n",
       "      <td>4</td>\n",
       "      <td>08/30</td>\n",
       "      <td>Away</td>\n",
       "      <td>TB</td>\n",
       "      <td>L</td>\n",
       "      <td>...</td>\n",
       "      <td>1</td>\n",
       "      <td>2</td>\n",
       "      <td>13</td>\n",
       "      <td>50.8</td>\n",
       "      <td>2</td>\n",
       "      <td>17</td>\n",
       "      <td>8.5</td>\n",
       "      <td>0</td>\n",
       "      <td>--</td>\n",
       "      <td>--</td>\n",
       "    </tr>\n",
       "    <tr>\n",
       "      <th>4</th>\n",
       "      <td>billdemory/2512778</td>\n",
       "      <td>Demory, Bill</td>\n",
       "      <td>NaN</td>\n",
       "      <td>1974</td>\n",
       "      <td>Regular Season</td>\n",
       "      <td>1</td>\n",
       "      <td>09/15</td>\n",
       "      <td>Away</td>\n",
       "      <td>KC</td>\n",
       "      <td>L</td>\n",
       "      <td>...</td>\n",
       "      <td>--</td>\n",
       "      <td>--</td>\n",
       "      <td>--</td>\n",
       "      <td>0.0</td>\n",
       "      <td>--</td>\n",
       "      <td>--</td>\n",
       "      <td>--</td>\n",
       "      <td>--</td>\n",
       "      <td>--</td>\n",
       "      <td>--</td>\n",
       "    </tr>\n",
       "  </tbody>\n",
       "</table>\n",
       "<p>5 rows × 29 columns</p>\n",
       "</div>"
      ],
      "text/plain": [
       "                Player Id              Name Position  Year          Season  \\\n",
       "0  jaredzabransky/2495791  Zabransky, Jared      NaN  2007       Preseason   \n",
       "1  jaredzabransky/2495791  Zabransky, Jared      NaN  2007       Preseason   \n",
       "2  jaredzabransky/2495791  Zabransky, Jared      NaN  2007       Preseason   \n",
       "3  jaredzabransky/2495791  Zabransky, Jared      NaN  2007       Preseason   \n",
       "4      billdemory/2512778      Demory, Bill      NaN  1974  Regular Season   \n",
       "\n",
       "   Week Game Date Home or Away Opponent Outcome  ... Ints  Sacks  \\\n",
       "0     1     08/11         Home      CHI       L  ...   --     --   \n",
       "1     2     08/18         Away      ARI       W  ...    0      0   \n",
       "2     3     08/25         Home      DAL       W  ...   --     --   \n",
       "3     4     08/30         Away       TB       L  ...    1      2   \n",
       "4     1     09/15         Away       KC       L  ...   --     --   \n",
       "\n",
       "  Sacked Yards Lost Passer Rating Rushing Attempts Rushing Yards  \\\n",
       "0                --           0.0               --            --   \n",
       "1                 0          46.9               --            --   \n",
       "2                --           0.0               --            --   \n",
       "3                13          50.8                2            17   \n",
       "4                --           0.0               --            --   \n",
       "\n",
       "  Yards Per Carry Rushing TDs Fumbles Fumbles Lost  \n",
       "0              --          --      --           --  \n",
       "1              --          --      --           --  \n",
       "2              --          --      --           --  \n",
       "3             8.5           0      --           --  \n",
       "4              --          --      --           --  \n",
       "\n",
       "[5 rows x 29 columns]"
      ]
     },
     "execution_count": 20,
     "metadata": {},
     "output_type": "execute_result"
    }
   ],
   "source": [
    "main_df.head()"
   ]
  },
  {
   "cell_type": "code",
   "execution_count": 21,
   "id": "c107c2cf",
   "metadata": {},
   "outputs": [
    {
     "data": {
      "text/plain": [
       "Index(['Player Id', 'Name', 'Position', 'Year', 'Season', 'Week', 'Game Date',\n",
       "       'Home or Away', 'Opponent', 'Outcome', 'Score', 'Games Played',\n",
       "       'Games Started', 'Passes Completed', 'Passes Attempted',\n",
       "       'Completion Percentage', 'Passing Yards', 'Passing Yards Per Attempt',\n",
       "       'TD Passes', 'Ints', 'Sacks', 'Sacked Yards Lost', 'Passer Rating',\n",
       "       'Rushing Attempts', 'Rushing Yards', 'Yards Per Carry', 'Rushing TDs',\n",
       "       'Fumbles', 'Fumbles Lost'],\n",
       "      dtype='object')"
      ]
     },
     "execution_count": 21,
     "metadata": {},
     "output_type": "execute_result"
    }
   ],
   "source": [
    "main_df.columns"
   ]
  },
  {
   "cell_type": "markdown",
   "id": "f318148a",
   "metadata": {},
   "source": [
    "### Let's Talk About Our Data\n",
    "\n",
    "I have shown the first 5 rows and the column names.\n",
    "\n",
    "The Main columns we will need to worry about is Name, Year, Season, Home or Away, Opponent, Passes Attempted, Passer Rating\n",
    "\n",
    "- Name : Name of the player\n",
    "- Year : What year the season was\n",
    "- Season : Whether the game was played in the Preseason, Regular Season, Postseason, or Pro Bowl\n",
    "- Home or Away : Whether the game was played home or away\n",
    "- Opponent : What team the quarterback played that game\n",
    "- Passes Attempted : How many passes the quarterback threw\n",
    "- Passer Rating : The measure of the performance of the quarterback"
   ]
  },
  {
   "cell_type": "markdown",
   "id": "b10b7afa",
   "metadata": {},
   "source": [
    "# Data Wrangling\n",
    "\n",
    "We will now need to wrangle our data so we can derive the proper results from them.\n",
    "\n",
    "We will create a new dataset to answer question 1, and another dataset to answer questions 2 and 3\n",
    "\n",
    "Before we create two new datasets, I will do some data wrangling on the main dataset as the wrangling will be applied to both new datasets."
   ]
  },
  {
   "cell_type": "markdown",
   "id": "c8620e67",
   "metadata": {},
   "source": [
    "### Main Data Wrangling\n",
    "\n",
    "1. I will drop the columns that we don't need to worry about.\n",
    "2. I will drop any row in the column Season that contains Preseason and Pro Bowl. Regular Season and Postseason games contain the starting quarterbacks and are the most important games in a NFL season.\n",
    "3. I will drop any row where the Year is under 2002. This is because in today's NFL, the most recent team added in the NFL was the Houston Texans, where their first season was in 2002. I only want to work with current teams in the NFL.\n",
    "4. I will drop any row where the Passes Attempted is under 15, I just want data where the quarterback actually threw the ball plenty of times to create an accurate Passer Rating. "
   ]
  },
  {
   "cell_type": "code",
   "execution_count": 22,
   "id": "2ab6f034",
   "metadata": {},
   "outputs": [],
   "source": [
    "main_df = main_df[['Name', 'Year', 'Season', 'Home or Away', 'Opponent', 'Passes Attempted', 'Passer Rating']].copy()"
   ]
  },
  {
   "cell_type": "code",
   "execution_count": 23,
   "id": "6aa9aae5",
   "metadata": {},
   "outputs": [
    {
     "data": {
      "text/html": [
       "<div>\n",
       "<style scoped>\n",
       "    .dataframe tbody tr th:only-of-type {\n",
       "        vertical-align: middle;\n",
       "    }\n",
       "\n",
       "    .dataframe tbody tr th {\n",
       "        vertical-align: top;\n",
       "    }\n",
       "\n",
       "    .dataframe thead th {\n",
       "        text-align: right;\n",
       "    }\n",
       "</style>\n",
       "<table border=\"1\" class=\"dataframe\">\n",
       "  <thead>\n",
       "    <tr style=\"text-align: right;\">\n",
       "      <th></th>\n",
       "      <th>Name</th>\n",
       "      <th>Year</th>\n",
       "      <th>Season</th>\n",
       "      <th>Home or Away</th>\n",
       "      <th>Opponent</th>\n",
       "      <th>Passes Attempted</th>\n",
       "      <th>Passer Rating</th>\n",
       "    </tr>\n",
       "  </thead>\n",
       "  <tbody>\n",
       "    <tr>\n",
       "      <th>0</th>\n",
       "      <td>Zabransky, Jared</td>\n",
       "      <td>2007</td>\n",
       "      <td>Preseason</td>\n",
       "      <td>Home</td>\n",
       "      <td>CHI</td>\n",
       "      <td>--</td>\n",
       "      <td>0.0</td>\n",
       "    </tr>\n",
       "    <tr>\n",
       "      <th>1</th>\n",
       "      <td>Zabransky, Jared</td>\n",
       "      <td>2007</td>\n",
       "      <td>Preseason</td>\n",
       "      <td>Away</td>\n",
       "      <td>ARI</td>\n",
       "      <td>4</td>\n",
       "      <td>46.9</td>\n",
       "    </tr>\n",
       "    <tr>\n",
       "      <th>2</th>\n",
       "      <td>Zabransky, Jared</td>\n",
       "      <td>2007</td>\n",
       "      <td>Preseason</td>\n",
       "      <td>Home</td>\n",
       "      <td>DAL</td>\n",
       "      <td>--</td>\n",
       "      <td>0.0</td>\n",
       "    </tr>\n",
       "    <tr>\n",
       "      <th>3</th>\n",
       "      <td>Zabransky, Jared</td>\n",
       "      <td>2007</td>\n",
       "      <td>Preseason</td>\n",
       "      <td>Away</td>\n",
       "      <td>TB</td>\n",
       "      <td>22</td>\n",
       "      <td>50.8</td>\n",
       "    </tr>\n",
       "    <tr>\n",
       "      <th>4</th>\n",
       "      <td>Demory, Bill</td>\n",
       "      <td>1974</td>\n",
       "      <td>Regular Season</td>\n",
       "      <td>Away</td>\n",
       "      <td>KC</td>\n",
       "      <td>--</td>\n",
       "      <td>0.0</td>\n",
       "    </tr>\n",
       "  </tbody>\n",
       "</table>\n",
       "</div>"
      ],
      "text/plain": [
       "               Name  Year          Season Home or Away Opponent  \\\n",
       "0  Zabransky, Jared  2007       Preseason         Home      CHI   \n",
       "1  Zabransky, Jared  2007       Preseason         Away      ARI   \n",
       "2  Zabransky, Jared  2007       Preseason         Home      DAL   \n",
       "3  Zabransky, Jared  2007       Preseason         Away       TB   \n",
       "4      Demory, Bill  1974  Regular Season         Away       KC   \n",
       "\n",
       "  Passes Attempted  Passer Rating  \n",
       "0               --            0.0  \n",
       "1                4           46.9  \n",
       "2               --            0.0  \n",
       "3               22           50.8  \n",
       "4               --            0.0  "
      ]
     },
     "execution_count": 23,
     "metadata": {},
     "output_type": "execute_result"
    }
   ],
   "source": [
    "main_df.head()"
   ]
  },
  {
   "cell_type": "code",
   "execution_count": 24,
   "id": "9a8fd211",
   "metadata": {},
   "outputs": [
    {
     "data": {
      "text/plain": [
       "array(['Regular Season', 'Postseason'], dtype=object)"
      ]
     },
     "execution_count": 24,
     "metadata": {},
     "output_type": "execute_result"
    }
   ],
   "source": [
    "badSeason = main_df[ (main_df['Season'] == 'Preseason') | (main_df['Season'] == 'Pro Bowl')].index\n",
    "main_df.drop(badSeason, inplace=True)\n",
    "main_df.Season.unique()"
   ]
  },
  {
   "cell_type": "code",
   "execution_count": 25,
   "id": "8d28ec04",
   "metadata": {},
   "outputs": [
    {
     "data": {
      "text/plain": [
       "array([2016, 2014, 2005, 2004, 2003, 2002, 2011, 2010, 2009, 2015, 2013,\n",
       "       2008, 2007, 2006, 2012], dtype=int64)"
      ]
     },
     "execution_count": 25,
     "metadata": {},
     "output_type": "execute_result"
    }
   ],
   "source": [
    "badYear = main_df[(main_df['Year'] < 2002)].index\n",
    "main_df.drop(badYear, inplace=True)\n",
    "main_df.Year.unique()"
   ]
  },
  {
   "cell_type": "code",
   "execution_count": 26,
   "id": "5767da79",
   "metadata": {},
   "outputs": [
    {
     "data": {
      "text/plain": [
       "array(['36', '29', '8', '19', '28', '7', '22', '13', '1', '24', '47',\n",
       "       '34', '30', '35', '44', '42', '38', '18', '27', '25', '23', '41',\n",
       "       '57', '33', '48', '5', '11', '21', '20', '12', '31', '43', '37',\n",
       "       '26', '40', '39', '32', '45', '17', '14', '16', '2', '52', '46',\n",
       "       '6', '49', '10', '9', '54', '0', '4', '15', '61', '3', '50', '51',\n",
       "       '56', '53', '63', '60', '58', '65', '59', '62', '55', '64'],\n",
       "      dtype=object)"
      ]
     },
     "execution_count": 26,
     "metadata": {},
     "output_type": "execute_result"
    }
   ],
   "source": [
    "invalidAttempt = main_df[(main_df['Passes Attempted'] == '--')].index\n",
    "main_df.drop(invalidAttempt, inplace=True)\n",
    "main_df['Passes Attempted'].unique()"
   ]
  },
  {
   "cell_type": "code",
   "execution_count": 27,
   "id": "3b948e24",
   "metadata": {},
   "outputs": [
    {
     "data": {
      "text/plain": [
       "array([36, 29, 19, 28, 22, 24, 47, 34, 30, 35, 44, 42, 38, 18, 27, 25, 23,\n",
       "       41, 57, 33, 48, 21, 20, 31, 43, 37, 26, 40, 39, 32, 45, 17, 16, 52,\n",
       "       46, 49, 54, 15, 61, 50, 51, 56, 53, 63, 60, 58, 65, 59, 62, 55, 64],\n",
       "      dtype=int64)"
      ]
     },
     "execution_count": 27,
     "metadata": {},
     "output_type": "execute_result"
    }
   ],
   "source": [
    "main_df['Passes Attempted'] = pd.to_numeric(main_df['Passes Attempted'])\n",
    "smallAttempt = main_df[(main_df['Passes Attempted'] < 15)].index\n",
    "main_df.drop(smallAttempt, inplace=True)\n",
    "main_df['Passes Attempted'].unique()"
   ]
  },
  {
   "cell_type": "markdown",
   "id": "22148bb9",
   "metadata": {},
   "source": [
    "### Question 1 Data Wrangling\n",
    "\n",
    "This wrangling is quite simple, I will create the new dataset with passing rating averages for each team."
   ]
  },
  {
   "cell_type": "code",
   "execution_count": 28,
   "id": "dcfa9ef5",
   "metadata": {},
   "outputs": [
    {
     "data": {
      "text/html": [
       "<div>\n",
       "<style scoped>\n",
       "    .dataframe tbody tr th:only-of-type {\n",
       "        vertical-align: middle;\n",
       "    }\n",
       "\n",
       "    .dataframe tbody tr th {\n",
       "        vertical-align: top;\n",
       "    }\n",
       "\n",
       "    .dataframe thead th {\n",
       "        text-align: right;\n",
       "    }\n",
       "</style>\n",
       "<table border=\"1\" class=\"dataframe\">\n",
       "  <thead>\n",
       "    <tr style=\"text-align: right;\">\n",
       "      <th></th>\n",
       "      <th>Passer Rating</th>\n",
       "    </tr>\n",
       "    <tr>\n",
       "      <th>Opponent</th>\n",
       "      <th></th>\n",
       "    </tr>\n",
       "  </thead>\n",
       "  <tbody>\n",
       "    <tr>\n",
       "      <th>ARI</th>\n",
       "      <td>84.672251</td>\n",
       "    </tr>\n",
       "    <tr>\n",
       "      <th>ATL</th>\n",
       "      <td>91.530319</td>\n",
       "    </tr>\n",
       "    <tr>\n",
       "      <th>BAL</th>\n",
       "      <td>79.683962</td>\n",
       "    </tr>\n",
       "    <tr>\n",
       "      <th>BUF</th>\n",
       "      <td>81.402475</td>\n",
       "    </tr>\n",
       "    <tr>\n",
       "      <th>CAR</th>\n",
       "      <td>84.730526</td>\n",
       "    </tr>\n",
       "  </tbody>\n",
       "</table>\n",
       "</div>"
      ],
      "text/plain": [
       "          Passer Rating\n",
       "Opponent               \n",
       "ARI           84.672251\n",
       "ATL           91.530319\n",
       "BAL           79.683962\n",
       "BUF           81.402475\n",
       "CAR           84.730526"
      ]
     },
     "execution_count": 28,
     "metadata": {},
     "output_type": "execute_result"
    }
   ],
   "source": [
    "q1_df = main_df[['Opponent', 'Passer Rating']].copy()\n",
    "q1_df = q1_df.groupby(['Opponent']).mean()\n",
    "q1_df.head()"
   ]
  },
  {
   "cell_type": "markdown",
   "id": "794115fc",
   "metadata": {},
   "source": [
    "### Question 2 and 3 Data Wrangling\n",
    "\n",
    "1. We will first drop any row where the game was played at home, since we only want to look at games played by an opposing quarterback in away territory.\n",
    "2. Then we will wrangle the data with passing rating averages for each team"
   ]
  },
  {
   "cell_type": "code",
   "execution_count": 29,
   "id": "0dbc50a6",
   "metadata": {},
   "outputs": [
    {
     "data": {
      "text/html": [
       "<div>\n",
       "<style scoped>\n",
       "    .dataframe tbody tr th:only-of-type {\n",
       "        vertical-align: middle;\n",
       "    }\n",
       "\n",
       "    .dataframe tbody tr th {\n",
       "        vertical-align: top;\n",
       "    }\n",
       "\n",
       "    .dataframe thead th {\n",
       "        text-align: right;\n",
       "    }\n",
       "</style>\n",
       "<table border=\"1\" class=\"dataframe\">\n",
       "  <thead>\n",
       "    <tr style=\"text-align: right;\">\n",
       "      <th></th>\n",
       "      <th>Passer Rating</th>\n",
       "    </tr>\n",
       "    <tr>\n",
       "      <th>Opponent</th>\n",
       "      <th></th>\n",
       "    </tr>\n",
       "  </thead>\n",
       "  <tbody>\n",
       "    <tr>\n",
       "      <th>ARI</th>\n",
       "      <td>84.211579</td>\n",
       "    </tr>\n",
       "    <tr>\n",
       "      <th>ATL</th>\n",
       "      <td>91.379592</td>\n",
       "    </tr>\n",
       "    <tr>\n",
       "      <th>BAL</th>\n",
       "      <td>73.718447</td>\n",
       "    </tr>\n",
       "    <tr>\n",
       "      <th>BUF</th>\n",
       "      <td>75.620755</td>\n",
       "    </tr>\n",
       "    <tr>\n",
       "      <th>CAR</th>\n",
       "      <td>83.275556</td>\n",
       "    </tr>\n",
       "  </tbody>\n",
       "</table>\n",
       "</div>"
      ],
      "text/plain": [
       "          Passer Rating\n",
       "Opponent               \n",
       "ARI           84.211579\n",
       "ATL           91.379592\n",
       "BAL           73.718447\n",
       "BUF           75.620755\n",
       "CAR           83.275556"
      ]
     },
     "execution_count": 29,
     "metadata": {},
     "output_type": "execute_result"
    }
   ],
   "source": [
    "badGame = main_df[ (main_df['Home or Away'] == 'Home')].index\n",
    "q23_df = main_df.drop(badGame)\n",
    "q23_df = q23_df[['Opponent', 'Passer Rating']].copy()\n",
    "q23_df = q23_df.groupby(['Opponent']).mean()\n",
    "q23_df.head()"
   ]
  },
  {
   "cell_type": "markdown",
   "id": "559b484e",
   "metadata": {},
   "source": [
    "# Show and Visualize the Results\n",
    "\n",
    "Let's take a look at our results!!!!!!!!!!!!!"
   ]
  },
  {
   "cell_type": "markdown",
   "id": "9e79c15a",
   "metadata": {},
   "source": [
    "### Question 1 Visualization and Result"
   ]
  },
  {
   "cell_type": "code",
   "execution_count": 30,
   "id": "6543f449",
   "metadata": {},
   "outputs": [
    {
     "data": {
      "text/html": [
       "<div>\n",
       "<style scoped>\n",
       "    .dataframe tbody tr th:only-of-type {\n",
       "        vertical-align: middle;\n",
       "    }\n",
       "\n",
       "    .dataframe tbody tr th {\n",
       "        vertical-align: top;\n",
       "    }\n",
       "\n",
       "    .dataframe thead th {\n",
       "        text-align: right;\n",
       "    }\n",
       "</style>\n",
       "<table border=\"1\" class=\"dataframe\">\n",
       "  <thead>\n",
       "    <tr style=\"text-align: right;\">\n",
       "      <th></th>\n",
       "      <th>Passer Rating</th>\n",
       "    </tr>\n",
       "    <tr>\n",
       "      <th>Opponent</th>\n",
       "      <th></th>\n",
       "    </tr>\n",
       "  </thead>\n",
       "  <tbody>\n",
       "    <tr>\n",
       "      <th>BAL</th>\n",
       "      <td>79.683962</td>\n",
       "    </tr>\n",
       "    <tr>\n",
       "      <th>GB</th>\n",
       "      <td>81.124742</td>\n",
       "    </tr>\n",
       "    <tr>\n",
       "      <th>SEA</th>\n",
       "      <td>81.280303</td>\n",
       "    </tr>\n",
       "    <tr>\n",
       "      <th>BUF</th>\n",
       "      <td>81.402475</td>\n",
       "    </tr>\n",
       "    <tr>\n",
       "      <th>PIT</th>\n",
       "      <td>82.169118</td>\n",
       "    </tr>\n",
       "  </tbody>\n",
       "</table>\n",
       "</div>"
      ],
      "text/plain": [
       "          Passer Rating\n",
       "Opponent               \n",
       "BAL           79.683962\n",
       "GB            81.124742\n",
       "SEA           81.280303\n",
       "BUF           81.402475\n",
       "PIT           82.169118"
      ]
     },
     "execution_count": 30,
     "metadata": {},
     "output_type": "execute_result"
    }
   ],
   "source": [
    "q1_df.sort_values(by=['Passer Rating'], inplace=True)\n",
    "q1_df.head()"
   ]
  },
  {
   "cell_type": "code",
   "execution_count": 31,
   "id": "7a65ddbf",
   "metadata": {},
   "outputs": [
    {
     "data": {
      "text/plain": [
       "<AxesSubplot:xlabel='Opponent'>"
      ]
     },
     "execution_count": 31,
     "metadata": {},
     "output_type": "execute_result"
    },
    {
     "data": {
      "image/png": "[encoded data removed]",
      "text/plain": [
       "<Figure size 432x288 with 1 Axes>"
      ]
     },
     "metadata": {
      "needs_background": "light"
     },
     "output_type": "display_data"
    }
   ],
   "source": [
    "q1_df.plot.bar(color='blue')"
   ]
  },
  {
   "cell_type": "markdown",
   "id": "feb18f26",
   "metadata": {},
   "source": [
    "### Question 2 and 3 Visualization and Results"
   ]
  },
  {
   "cell_type": "code",
   "execution_count": 32,
   "id": "1fdf7c60",
   "metadata": {},
   "outputs": [
    {
     "data": {
      "text/html": [
       "<div>\n",
       "<style scoped>\n",
       "    .dataframe tbody tr th:only-of-type {\n",
       "        vertical-align: middle;\n",
       "    }\n",
       "\n",
       "    .dataframe tbody tr th {\n",
       "        vertical-align: top;\n",
       "    }\n",
       "\n",
       "    .dataframe thead th {\n",
       "        text-align: right;\n",
       "    }\n",
       "</style>\n",
       "<table border=\"1\" class=\"dataframe\">\n",
       "  <thead>\n",
       "    <tr style=\"text-align: right;\">\n",
       "      <th></th>\n",
       "      <th>Passer Rating</th>\n",
       "    </tr>\n",
       "    <tr>\n",
       "      <th>Opponent</th>\n",
       "      <th></th>\n",
       "    </tr>\n",
       "  </thead>\n",
       "  <tbody>\n",
       "    <tr>\n",
       "      <th>BAL</th>\n",
       "      <td>73.718447</td>\n",
       "    </tr>\n",
       "    <tr>\n",
       "      <th>SEA</th>\n",
       "      <td>75.469697</td>\n",
       "    </tr>\n",
       "    <tr>\n",
       "      <th>BUF</th>\n",
       "      <td>75.620755</td>\n",
       "    </tr>\n",
       "    <tr>\n",
       "      <th>GB</th>\n",
       "      <td>75.680612</td>\n",
       "    </tr>\n",
       "    <tr>\n",
       "      <th>JAX</th>\n",
       "      <td>76.800000</td>\n",
       "    </tr>\n",
       "  </tbody>\n",
       "</table>\n",
       "</div>"
      ],
      "text/plain": [
       "          Passer Rating\n",
       "Opponent               \n",
       "BAL           73.718447\n",
       "SEA           75.469697\n",
       "BUF           75.620755\n",
       "GB            75.680612\n",
       "JAX           76.800000"
      ]
     },
     "execution_count": 32,
     "metadata": {},
     "output_type": "execute_result"
    }
   ],
   "source": [
    "q23_df.sort_values(by=['Passer Rating'], inplace=True)\n",
    "q23_df.head()"
   ]
  },
  {
   "cell_type": "code",
   "execution_count": 33,
   "id": "1a3eb16d",
   "metadata": {},
   "outputs": [
    {
     "data": {
      "text/html": [
       "<div>\n",
       "<style scoped>\n",
       "    .dataframe tbody tr th:only-of-type {\n",
       "        vertical-align: middle;\n",
       "    }\n",
       "\n",
       "    .dataframe tbody tr th {\n",
       "        vertical-align: top;\n",
       "    }\n",
       "\n",
       "    .dataframe thead th {\n",
       "        text-align: right;\n",
       "    }\n",
       "</style>\n",
       "<table border=\"1\" class=\"dataframe\">\n",
       "  <thead>\n",
       "    <tr style=\"text-align: right;\">\n",
       "      <th></th>\n",
       "      <th>Passer Rating</th>\n",
       "    </tr>\n",
       "    <tr>\n",
       "      <th>Opponent</th>\n",
       "      <th></th>\n",
       "    </tr>\n",
       "  </thead>\n",
       "  <tbody>\n",
       "    <tr>\n",
       "      <th>DAL</th>\n",
       "      <td>89.839796</td>\n",
       "    </tr>\n",
       "    <tr>\n",
       "      <th>ATL</th>\n",
       "      <td>91.379592</td>\n",
       "    </tr>\n",
       "    <tr>\n",
       "      <th>OAK</th>\n",
       "      <td>91.538889</td>\n",
       "    </tr>\n",
       "    <tr>\n",
       "      <th>DET</th>\n",
       "      <td>93.691304</td>\n",
       "    </tr>\n",
       "    <tr>\n",
       "      <th>LA</th>\n",
       "      <td>95.112500</td>\n",
       "    </tr>\n",
       "  </tbody>\n",
       "</table>\n",
       "</div>"
      ],
      "text/plain": [
       "          Passer Rating\n",
       "Opponent               \n",
       "DAL           89.839796\n",
       "ATL           91.379592\n",
       "OAK           91.538889\n",
       "DET           93.691304\n",
       "LA            95.112500"
      ]
     },
     "execution_count": 33,
     "metadata": {},
     "output_type": "execute_result"
    }
   ],
   "source": [
    "q23_df.tail()"
   ]
  },
  {
   "cell_type": "code",
   "execution_count": 34,
   "id": "d6fd4fd6",
   "metadata": {},
   "outputs": [
    {
     "data": {
      "text/plain": [
       "<AxesSubplot:xlabel='Opponent'>"
      ]
     },
     "execution_count": 34,
     "metadata": {},
     "output_type": "execute_result"
    },
    {
     "data": {
      "image/png": "[encoded data removed]",
      "text/plain": [
       "<Figure size 432x288 with 1 Axes>"
      ]
     },
     "metadata": {
      "needs_background": "light"
     },
     "output_type": "display_data"
    }
   ],
   "source": [
    "q23_df.plot.bar(color='green')"
   ]
  },
  {
   "cell_type": "markdown",
   "id": "b0a7e6d7",
   "metadata": {},
   "source": [
    "# Conclusion\n",
    "\n",
    "Here are the results for each question\n",
    "\n",
    "1. The data shows that quarterbacks had the most trouble when facing Baltimore\n",
    "2. The data shows that quarterbacks had the least success when playing in Baltimore\n",
    "3. The data shows that quarterbacks had the most success when playing in Los Angeles"
   ]
  },
  {
   "cell_type": "code",
   "execution_count": null,
   "id": "932b70e4",
   "metadata": {},
   "outputs": [],
   "source": []
  }
 ],
 "metadata": {
  "kernelspec": {
   "display_name": "Python 3 (ipykernel)",
   "language": "python",
   "name": "python3"
  },
  "language_info": {
   "codemirror_mode": {
    "name": "ipython",
    "version": 3
   },
   "file_extension": ".py",
   "mimetype": "text/x-python",
   "name": "python",
   "nbconvert_exporter": "python",
   "pygments_lexer": "ipython3",
   "version": "3.8.5"
  }
 },
 "nbformat": 4,
 "nbformat_minor": 5
}
